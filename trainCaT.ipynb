{
 "cells": [
  {
   "cell_type": "markdown",
   "metadata": {
    "colab_type": "text",
    "id": "view-in-github"
   },
   "source": [
    "<a href=\"https://colab.research.google.com/github/tpmmthomas/Sepsis-diagnosis-from-pairwise-single-cell-RNA-Continued/blob/master/NEW_NEW_capsnet.ipynb\" target=\"_parent\"><img src=\"https://colab.research.google.com/assets/colab-badge.svg\" alt=\"Open In Colab\"/></a>"
   ]
  },
  {
   "cell_type": "code",
   "execution_count": 1,
   "metadata": {
    "id": "-pMdZ8LBnucj"
   },
   "outputs": [
    {
     "name": "stderr",
     "output_type": "stream",
     "text": [
      "2022-03-10 19:55:54.814796: I tensorflow/stream_executor/platform/default/dso_loader.cc:49] Successfully opened dynamic library libcudart.so.10.1\n"
     ]
    }
   ],
   "source": [
    "import numpy as np\n",
    "import pandas as pd\n",
    "import tensorflow as tf\n",
    "from tensorflow.keras import datasets, layers, models, optimizers\n",
    "from tensorflow.keras.layers import Conv1D\n",
    "from tensorflow.keras.layers import MaxPooling1D, BatchNormalization\n",
    "from sklearn.model_selection import KFold\n",
    "import matplotlib.pyplot as plt\n",
    "from tensorflow import keras\n",
    "from sklearn.metrics import *\n",
    "from tensorflow.keras import backend as K\n",
    "from tensorflow.keras.utils import to_categorical\n",
    "from PIL import Image\n",
    "from tensorflow.keras import initializers, layers\n",
    "from datetime import date\n",
    "from sklearn.model_selection import train_test_split\n",
    "from tensorflow.python.keras.utils.multi_gpu_utils import multi_gpu_model\n",
    "from tensorflow.python.client import device_lib"
   ]
  },
  {
   "cell_type": "code",
   "execution_count": 34,
   "metadata": {
    "id": "Pmb3b_a0oX_3"
   },
   "outputs": [],
   "source": [
    "class Length(layers.Layer):\n",
    "    def call(self, inputs, **kwargs):\n",
    "        return K.sqrt(K.sum(K.square(inputs), -1))\n",
    "\n",
    "    def compute_output_shape(self, input_shape):\n",
    "        return input_shape[:-1]\n",
    "\n",
    "\n",
    "class Mask(layers.Layer):\n",
    "    def call(self, inputs, **kwargs):\n",
    "        if type(inputs) is list:  # true label is provided with shape = [None, n_classes], i.e. one-hot code.\n",
    "            assert len(inputs) == 2\n",
    "            inputs, mask = inputs\n",
    "        else:  # if no true label, mask by the max length of capsules. Mainly used for prediction\n",
    "            # compute lengths of capsules\n",
    "            x = K.sqrt(K.sum(K.square(inputs), -1))\n",
    "            # generate the mask which is a one-hot code.\n",
    "            # mask.shape=[None, n_classes]=[None, num_capsule]\n",
    "            mask = K.one_hot(indices=K.argmax(x, 1), num_classes=tf.shape(x)[1])\n",
    "        masked = K.batch_flatten(inputs * K.expand_dims(mask, -1))\n",
    "        return masked\n",
    "\n",
    "    def compute_output_shape(self, input_shape):\n",
    "        if type(input_shape[0]) is tuple:  # true label provided\n",
    "            return tuple([None, input_shape[0][1] * input_shape[0][2]])\n",
    "        else:  # no true label provided\n",
    "            return tuple([None, input_shape[1] * input_shape[2]])\n",
    "\n",
    "\n",
    "def squash(vectors, axis=-1):\n",
    "    s_squared_norm = K.sum(K.square(vectors), axis, keepdims=True)\n",
    "    scale = s_squared_norm / (1 + s_squared_norm) / K.sqrt(s_squared_norm + K.epsilon())\n",
    "    return scale * vectors\n",
    "\n",
    "\n",
    "class CapsuleLayer(layers.Layer):\n",
    "    def __init__(self, num_capsule, dim_capsule, routings=3,\n",
    "                 kernel_initializer='glorot_uniform',\n",
    "                 **kwargs):\n",
    "        super(CapsuleLayer, self).__init__(**kwargs)\n",
    "        self.num_capsule = num_capsule\n",
    "        self.dim_capsule = dim_capsule\n",
    "        self.routings = routings\n",
    "        self.kernel_initializer = initializers.get(kernel_initializer)\n",
    "\n",
    "    def build(self, input_shape):\n",
    "        assert len(input_shape) >= 3, \"The input Tensor should have shape=[None, input_num_capsule, input_dim_capsule]\"\n",
    "        self.input_num_capsule = input_shape[1]\n",
    "        self.input_dim_capsule = input_shape[2]\n",
    "\n",
    "        # Transform matrix\n",
    "        self.W = self.add_weight(shape=(self.num_capsule, self.input_num_capsule,\n",
    "                                        self.dim_capsule, self.input_dim_capsule),\n",
    "                                 initializer=self.kernel_initializer,\n",
    "                                 name='W')\n",
    "\n",
    "        self.built = True\n",
    "\n",
    "    def call(self, inputs, training=None):\n",
    "\n",
    "      inputs_expand = tf.expand_dims(inputs, 1)\n",
    "      inputs_tiled  = tf.tile(inputs_expand, [1, self.num_capsule, 1, 1])\n",
    "      inputs_tiled  = tf.expand_dims(inputs_tiled, 4)\n",
    "      inputs_hat = tf.map_fn(lambda x: tf.matmul(self.W, x), elems=inputs_tiled)     \n",
    "\n",
    "      # Begin: Routing algorithm ----------------------------------------------#\n",
    "      b = tf.zeros(shape=[tf.shape(inputs_hat)[0], self.num_capsule, \n",
    "                          self.input_num_capsule, 1, 1])\n",
    "\n",
    "      assert self.routings > 0, 'The routings should be > 0.'\n",
    "      for i in range(self.routings):\n",
    "        c = layers.Softmax(axis=1)(b)\n",
    "        outputs = tf.multiply(c, inputs_hat)\n",
    "        outputs = tf.reduce_sum(outputs, axis=2, keepdims=True)\n",
    "        outputs = squash(outputs, axis=-2)  # [None, 10, 1, 16, 1]\n",
    "\n",
    "        if i < self.routings - 1:\n",
    "          outputs_tiled = tf.tile(outputs, [1, 1, self.input_num_capsule, 1, 1])\n",
    "          agreement = tf.matmul(inputs_hat, outputs_tiled, transpose_a=True)\n",
    "          b = tf.add(b, agreement)\n",
    "\n",
    "      # End: Routing algorithm ------------------------------------------------#\n",
    "      outputs = tf.squeeze(outputs, [2, 4])\n",
    "      return outputs,c\n",
    "\n",
    "    def compute_output_shape(self, input_shape):\n",
    "        return tuple([None, self.num_capsule, self.dim_capsule])\n",
    "\n",
    "class Weightlayer(layers.Layer):\n",
    "    def __init__(self, dim_capsule, n_channels, **kwargs):\n",
    "        super(Weightlayer, self).__init__(**kwargs)\n",
    "        self.filters = dim_capsule*n_channels\n",
    "        \n",
    "    def build(self, input_shape):\n",
    "        self.weight = self.add_weight(shape=(1,input_shape[1],self.filters), initializer='glorot_uniform', name='weight')\n",
    "        self.built = True\n",
    "\n",
    "    def call(self, inputs):\n",
    "        return tf.multiply(inputs , self.weight) , self.weight   \n",
    "    \n",
    "def PrimaryCap(inputs, dim_capsule, n_channels, kernel_size, strides, padding):\n",
    "    inputs, layerweight = Weightlayer(dim_capsule, n_channels)(inputs)\n",
    "    outputs = layers.Reshape(target_shape=[-1, dim_capsule], name='primarycap_reshape')(inputs)\n",
    "    return layers.Lambda(squash, name='primarycap_squash')(outputs)"
   ]
  },
  {
   "cell_type": "code",
   "execution_count": 3,
   "metadata": {
    "colab": {
     "base_uri": "https://localhost:8080/"
    },
    "id": "7vbMy0Iyo5Jz",
    "outputId": "2837b5ba-3410-4dcc-d9f6-6da4e0232a45"
   },
   "outputs": [
    {
     "name": "stdout",
     "output_type": "stream",
     "text": [
      "done\n",
      "(38483, 3030)\n",
      "(38483, 1)\n",
      "(4265, 3030)\n",
      "(4265, 1)\n"
     ]
    }
   ],
   "source": [
    "xtrain = r\"./dataSC/NEW_training_sample.csv.gz\"\n",
    "ytrain = r\"./dataSC/NEW_training_label.csv.gz\"\n",
    "xtest = r\"./dataSC/NEW_testing_sample.csv.gz\"\n",
    "ytest = r\"./dataSC/NEW_testing_label.csv.gz\"\n",
    "\n",
    "i=0\n",
    "samplesdf = pd.read_csv(xtrain,compression =\"gzip\",delimiter=',')\n",
    "x_train = samplesdf.to_numpy()\n",
    "\n",
    "samplesdf = pd.read_csv(ytrain,compression =\"gzip\",delimiter=',')\n",
    "y_train = samplesdf.to_numpy()\n",
    "\n",
    "samplesdf = pd.read_csv(xtest,compression =\"gzip\",delimiter=',')\n",
    "x_test = samplesdf.to_numpy()\n",
    "\n",
    "samplesdf = pd.read_csv(ytest,compression =\"gzip\",delimiter=',')\n",
    "y_test = samplesdf.to_numpy()\n",
    "\n",
    "print(\"done\")\n",
    "print(x_train.shape)\n",
    "print(y_train.shape)\n",
    "print(x_test.shape)\n",
    "print(y_test.shape)"
   ]
  },
  {
   "cell_type": "code",
   "execution_count": 4,
   "metadata": {},
   "outputs": [
    {
     "name": "stdout",
     "output_type": "stream",
     "text": [
      "(38483, 2869)\n",
      "(4265, 2869)\n"
     ]
    }
   ],
   "source": [
    "common_indicator = pd.read_csv('./dataBulk/common_rna_indicator.csv',index_col=0).values.squeeze().tolist()\n",
    "\n",
    "x_train = x_train.T[common_indicator].T\n",
    "print(x_train.shape)\n",
    "x_test = x_test.T[common_indicator].T\n",
    "print(x_test.shape)"
   ]
  },
  {
   "cell_type": "code",
   "execution_count": 5,
   "metadata": {},
   "outputs": [
    {
     "name": "stdout",
     "output_type": "stream",
     "text": [
      "(34218, 2869) (34218, 1)\n",
      "(4265, 2869) (4265, 1)\n"
     ]
    }
   ],
   "source": [
    "# train, validation, test ratio = 80%:10%:10%\n",
    "xtr,xval, ytr,yval = train_test_split(x_train,y_train,test_size=4265,random_state=42)\n",
    "print(xtr.shape,ytr.shape)\n",
    "print(xval.shape,yval.shape)"
   ]
  },
  {
   "cell_type": "code",
   "execution_count": 6,
   "metadata": {
    "scrolled": true
   },
   "outputs": [
    {
     "name": "stderr",
     "output_type": "stream",
     "text": [
      "2022-03-10 19:56:34.904304: I tensorflow/compiler/jit/xla_cpu_device.cc:41] Not creating XLA devices, tf_xla_enable_xla_devices not set\n",
      "2022-03-10 19:56:34.905438: W tensorflow/stream_executor/platform/default/dso_loader.cc:60] Could not load dynamic library 'libcuda.so.1'; dlerror: libcuda.so.1: cannot open shared object file: No such file or directory; LD_LIBRARY_PATH: /usr/local/cuda-11.5/lib64\n",
      "2022-03-10 19:56:34.905473: W tensorflow/stream_executor/cuda/cuda_driver.cc:326] failed call to cuInit: UNKNOWN ERROR (303)\n",
      "2022-03-10 19:56:34.905541: I tensorflow/stream_executor/cuda/cuda_diagnostics.cc:156] kernel driver does not appear to be running on this host (hpc1.cse.cuhk.edu.hk): /proc/driver/nvidia/version does not exist\n",
      "2022-03-10 19:56:34.906876: I tensorflow/core/platform/cpu_feature_guard.cc:142] This TensorFlow binary is optimized with oneAPI Deep Neural Network Library (oneDNN) to use the following CPU instructions in performance-critical operations:  SSE4.1 SSE4.2 AVX AVX2 FMA\n",
      "To enable them in other operations, rebuild TensorFlow with the appropriate compiler flags.\n",
      "2022-03-10 19:56:34.921749: I tensorflow/compiler/jit/xla_gpu_device.cc:99] Not creating XLA devices, tf_xla_enable_xla_devices not set\n"
     ]
    },
    {
     "name": "stdout",
     "output_type": "stream",
     "text": [
      "(34218, 2869, 1)\n",
      "(4265, 2869, 1)\n",
      "(4265, 2869, 1)\n"
     ]
    }
   ],
   "source": [
    "xtr=tf.reshape(xtr,(len(xtr),2869,1))\n",
    "xval=tf.reshape(xval,(len(xval),2869,1))\n",
    "x_test=tf.reshape(x_test,(len(x_test),2869,1))\n",
    "print(xtr.shape)\n",
    "print(xval.shape)\n",
    "print(x_test.shape)"
   ]
  },
  {
   "cell_type": "code",
   "execution_count": 28,
   "metadata": {
    "id": "vQIfBE1Ao1DL"
   },
   "outputs": [],
   "source": [
    "#Transformer Structure\n",
    "class MultiHeadSelfAttention(layers.Layer):\n",
    "    def __init__(self, embed_dim, num_heads=8):\n",
    "        super(MultiHeadSelfAttention, self).__init__()\n",
    "        self.embed_dim = embed_dim\n",
    "        self.num_heads = num_heads\n",
    "        if embed_dim % num_heads != 0:\n",
    "            raise ValueError(\n",
    "                f\"embedding dimension = {embed_dim} should be divisible by number of heads = {num_heads}\"\n",
    "            )\n",
    "        self.projection_dim = embed_dim // num_heads\n",
    "        self.query_dense = layers.Dense(embed_dim)\n",
    "        self.key_dense = layers.Dense(embed_dim)\n",
    "        self.value_dense = layers.Dense(embed_dim)\n",
    "        self.combine_heads = layers.Dense(embed_dim)\n",
    "\n",
    "    def attention(self, query, key, value):\n",
    "        score = tf.matmul(query, key, transpose_b=True)\n",
    "        dim_key = tf.cast(tf.shape(key)[-1], tf.float32)\n",
    "        scaled_score = score / tf.math.sqrt(dim_key)\n",
    "        weights = tf.nn.softmax(scaled_score, axis=-1)\n",
    "        output = tf.matmul(weights, value)\n",
    "        return output, weights\n",
    "\n",
    "    def separate_heads(self, x, batch_size):\n",
    "        x = tf.reshape(x, (batch_size, -1, self.num_heads, self.projection_dim))\n",
    "        return tf.transpose(x, perm=[0, 2, 1, 3])\n",
    "\n",
    "    def call(self, inputs):\n",
    "        # x.shape = [batch_size, seq_len, embedding_dim]\n",
    "        batch_size = tf.shape(inputs)[0]\n",
    "        query = self.query_dense(inputs)  # (batch_size, seq_len, embed_dim)\n",
    "        key = self.key_dense(inputs)  # (batch_size, seq_len, embed_dim)\n",
    "        value = self.value_dense(inputs)  # (batch_size, seq_len, embed_dim)\n",
    "        query = self.separate_heads(\n",
    "            query, batch_size\n",
    "        )  # (batch_size, num_heads, seq_len, projection_dim)\n",
    "        key = self.separate_heads(\n",
    "            key, batch_size\n",
    "        )  # (batch_size, num_heads, seq_len, projection_dim)\n",
    "        value = self.separate_heads(\n",
    "            value, batch_size\n",
    "        )  # (batch_size, num_heads, seq_len, projection_dim)\n",
    "        attention, weights = self.attention(query, key, value)\n",
    "        attention = tf.transpose(\n",
    "            attention, perm=[0, 2, 1, 3]\n",
    "        )  # (batch_size, seq_len, num_heads, projection_dim)\n",
    "        concat_attention = tf.reshape(\n",
    "            attention, (batch_size, -1, self.embed_dim)\n",
    "        )  # (batch_size, seq_len, embed_dim)\n",
    "        output = self.combine_heads(\n",
    "            concat_attention\n",
    "        )  # (batch_size, seq_len, embed_dim)\n",
    "        return output\n",
    "\n",
    "class TransformerBlock(layers.Layer):\n",
    "    def __init__(self, embed_dim, num_heads, ff_dim, rate=0.1):\n",
    "        super(TransformerBlock, self).__init__()\n",
    "        self.att = MultiHeadSelfAttention(embed_dim, num_heads)\n",
    "        self.ffn = keras.Sequential(\n",
    "            [layers.Dense(ff_dim, activation=\"relu\"), layers.Dense(embed_dim),]\n",
    "        )\n",
    "        self.layernorm1 = layers.LayerNormalization(epsilon=1e-6)\n",
    "        self.layernorm2 = layers.LayerNormalization(epsilon=1e-6)\n",
    "        self.dropout1 = layers.Dropout(rate)\n",
    "        self.dropout2 = layers.Dropout(rate)\n",
    "\n",
    "    def call(self, inputs, training):\n",
    "        attn_output = self.att(inputs)\n",
    "        attn_output = self.dropout1(attn_output, training=training)\n",
    "        out1 = self.layernorm1(inputs + attn_output)\n",
    "        ffn_output = self.ffn(out1)\n",
    "        ffn_output = self.dropout2(ffn_output, training=training)\n",
    "        return self.layernorm2(out1 + ffn_output)\n",
    "\n",
    "class TokenAndPositionEmbedding(layers.Layer):\n",
    "    def __init__(self, maxlen, vocab_size, embed_dim):\n",
    "        super(TokenAndPositionEmbedding, self).__init__()\n",
    "        self.token_emb = layers.Embedding(input_dim=vocab_size, output_dim=embed_dim)\n",
    "        self.pos_emb = layers.Embedding(input_dim=maxlen, output_dim=embed_dim)\n",
    "\n",
    "    def call(self, x):\n",
    "        maxlen = tf.shape(x)[-1]\n",
    "        positions = tf.range(start=0, limit=maxlen, delta=1)\n",
    "        positions = self.pos_emb(positions)\n",
    "        x = self.token_emb(x)\n",
    "        return x + positions"
   ]
  },
  {
   "cell_type": "code",
   "execution_count": 35,
   "metadata": {
    "id": "P0fsFqz5p6K9"
   },
   "outputs": [],
   "source": [
    "def CapsNet(input_shape, n_class, routings):\n",
    "    inputs = layers.Input(shape=input_shape)\n",
    "    primarycaps = PrimaryCap(inputs, dim_capsule=8, n_channels=1, kernel_size=1, strides=1, padding='valid')\n",
    "    groupcaps,routing_weight = CapsuleLayer(num_capsule=n_class, dim_capsule=16, routings=routings,\n",
    "                             name='groupcaps')(primarycaps)\n",
    "\n",
    "    transformer_block = TransformerBlock(embed_dim=16, num_heads=2, ff_dim=128)\n",
    "    x = transformer_block(groupcaps)\n",
    "    x = layers.Flatten()(x)\n",
    "    x = layers.Dropout(0.1)(x)\n",
    "    x = layers.Dense(150, activation=\"relu\")(x)\n",
    "    outputs = layers.Dense(1, activation=\"sigmoid\")(x)\n",
    "    model = models.Model(inputs, outputs)\n",
    "    return model\n",
    "\n",
    "\n",
    "def margin_loss(y_true, y_pred):\n",
    "    L = y_true * K.square(K.maximum(0., 0.9 - y_pred)) + \\\n",
    "        0.5 * (1 - y_true) * K.square(K.maximum(0., y_pred - 0.1))\n",
    "    return K.mean(K.sum(L, 1))\n",
    "\n",
    "\n",
    "def test(model, X_test, y_test, args):\n",
    "    y_pred, x_recon = model.predict(X_test, batch_size=20)\n",
    "    print('-'*30 + 'Begin: test' + '-'*30)\n",
    "    print('Test acc:', np.sum(np.argmax(y_pred, 1) == np.argmax(y_test, 1))/y_test.shape[0])\n",
    "    return y_pred"
   ]
  },
  {
   "cell_type": "code",
   "execution_count": 36,
   "metadata": {
    "colab": {
     "base_uri": "https://localhost:8080/"
    },
    "id": "fazyVPfmqT5a",
    "outputId": "ea02a59d-f176-45c9-bfc7-f438ba659ef5",
    "scrolled": false
   },
   "outputs": [
    {
     "name": "stdout",
     "output_type": "stream",
     "text": [
      "WARNING:tensorflow:AutoGraph could not transform <bound method CapsuleLayer.call of <__main__.CapsuleLayer object at 0x7f118af6e6a0>> and will run it as-is.\n",
      "Please report this to the TensorFlow team. When filing the bug, set the verbosity to 10 (on Linux, `export AUTOGRAPH_VERBOSITY=10`) and attach the full output.\n",
      "Cause: module 'gast' has no attribute 'Index'\n",
      "To silence this warning, decorate the function with @tf.autograph.experimental.do_not_convert\n"
     ]
    },
    {
     "name": "stderr",
     "output_type": "stream",
     "text": [
      "WARNING:tensorflow:AutoGraph could not transform <bound method CapsuleLayer.call of <__main__.CapsuleLayer object at 0x7f118af6e6a0>> and will run it as-is.\n",
      "Please report this to the TensorFlow team. When filing the bug, set the verbosity to 10 (on Linux, `export AUTOGRAPH_VERBOSITY=10`) and attach the full output.\n",
      "Cause: module 'gast' has no attribute 'Index'\n",
      "To silence this warning, decorate the function with @tf.autograph.experimental.do_not_convert\n"
     ]
    },
    {
     "name": "stdout",
     "output_type": "stream",
     "text": [
      "WARNING: AutoGraph could not transform <bound method CapsuleLayer.call of <__main__.CapsuleLayer object at 0x7f118af6e6a0>> and will run it as-is.\n",
      "Please report this to the TensorFlow team. When filing the bug, set the verbosity to 10 (on Linux, `export AUTOGRAPH_VERBOSITY=10`) and attach the full output.\n",
      "Cause: module 'gast' has no attribute 'Index'\n",
      "To silence this warning, decorate the function with @tf.autograph.experimental.do_not_convert\n",
      "Model: \"model_6\"\n",
      "_________________________________________________________________\n",
      "Layer (type)                 Output Shape              Param #   \n",
      "=================================================================\n",
      "input_15 (InputLayer)        [(None, 2869, 1)]         0         \n",
      "_________________________________________________________________\n",
      "weightlayer_11 (Weightlayer) ((None, 2869, 8), (1, 286 22952     \n",
      "_________________________________________________________________\n",
      "primarycap_reshape (Reshape) (None, 2869, 8)           0         \n",
      "_________________________________________________________________\n",
      "primarycap_squash (Lambda)   (None, 2869, 8)           0         \n",
      "_________________________________________________________________\n",
      "groupcaps (CapsuleLayer)     ((None, 20, 16), (None, 2 7344640   \n",
      "_________________________________________________________________\n",
      "transformer_block_2 (Transfo (None, 20, 16)            5392      \n",
      "_________________________________________________________________\n",
      "flatten_2 (Flatten)          (None, 320)               0         \n",
      "_________________________________________________________________\n",
      "dropout_8 (Dropout)          (None, 320)               0         \n",
      "_________________________________________________________________\n",
      "dense_22 (Dense)             (None, 150)               48150     \n",
      "_________________________________________________________________\n",
      "dense_23 (Dense)             (None, 1)                 151       \n",
      "=================================================================\n",
      "Total params: 7,421,285\n",
      "Trainable params: 7,421,285\n",
      "Non-trainable params: 0\n",
      "_________________________________________________________________\n"
     ]
    }
   ],
   "source": [
    " # define model\n",
    "model= CapsNet(input_shape=xtr[1,:,:].shape,n_class=20,routings=3)\n",
    "model.summary()"
   ]
  },
  {
   "cell_type": "code",
   "execution_count": 10,
   "metadata": {
    "colab": {
     "base_uri": "https://localhost:8080/"
    },
    "id": "9LnzyRocqW_q",
    "outputId": "c22f1362-baaa-4177-c59e-ab61d6c3e32d"
   },
   "outputs": [
    {
     "name": "stdout",
     "output_type": "stream",
     "text": [
      "Epoch 1/2\n"
     ]
    },
    {
     "name": "stderr",
     "output_type": "stream",
     "text": [
      "2022-03-10 19:56:36.941583: I tensorflow/compiler/mlir/mlir_graph_optimization_pass.cc:116] None of the MLIR optimization passes are enabled (registered 2)\n",
      "2022-03-10 19:56:36.942515: I tensorflow/core/platform/profile_utils/cpu_utils.cc:112] CPU Frequency: 1895295000 Hz\n"
     ]
    },
    {
     "name": "stdout",
     "output_type": "stream",
     "text": [
      "1070/1070 [==============================] - 907s 843ms/step - loss: 0.5811 - accuracy: 0.6894 - val_loss: 0.4533 - val_accuracy: 0.7798\n",
      "Epoch 2/2\n",
      "1070/1070 [==============================] - 791s 740ms/step - loss: 0.3998 - accuracy: 0.8134 - val_loss: 0.4022 - val_accuracy: 0.8106\n"
     ]
    },
    {
     "name": "stderr",
     "output_type": "stream",
     "text": [
      "2022-03-10 20:24:57.496118: W tensorflow/python/util/util.cc:348] Sets are not currently considered sequences, but this may change in the future, so consider avoiding using them.\n",
      "WARNING:absl:Found untraced functions such as multi_head_self_attention_layer_call_and_return_conditional_losses, multi_head_self_attention_layer_call_fn, layer_normalization_layer_call_and_return_conditional_losses, layer_normalization_layer_call_fn, layer_normalization_1_layer_call_and_return_conditional_losses while saving (showing 5 of 45). These functions will not be directly callable after loading.\n",
      "WARNING:absl:Found untraced functions such as multi_head_self_attention_layer_call_and_return_conditional_losses, multi_head_self_attention_layer_call_fn, layer_normalization_layer_call_and_return_conditional_losses, layer_normalization_layer_call_fn, layer_normalization_1_layer_call_and_return_conditional_losses while saving (showing 5 of 45). These functions will not be directly callable after loading.\n"
     ]
    },
    {
     "name": "stdout",
     "output_type": "stream",
     "text": [
      "INFO:tensorflow:Assets written to: ./model/1Convmodeltest/assets\n"
     ]
    },
    {
     "name": "stderr",
     "output_type": "stream",
     "text": [
      "INFO:tensorflow:Assets written to: ./model/1Convmodeltest/assets\n"
     ]
    }
   ],
   "source": [
    "# train or test\n",
    "# compile the model\n",
    "model.compile(optimizer=optimizers.Adam(lr=0.0001, amsgrad=True),loss='binary_crossentropy', metrics=[\"accuracy\"])\n",
    "\n",
    "from tensorflow.keras import callbacks\n",
    "earlystopping = callbacks.EarlyStopping(monitor =\"val_accuracy\", \n",
    "                                        mode =\"min\", patience = 5, \n",
    "                                        restore_best_weights = True)\n",
    "history = model.fit(xtr, ytr, batch_size=32, epochs=20,validation_data=(xval, yval),\n",
    "               shuffle=True)\n",
    "\n",
    "today = date.today()\n",
    "model.save('./model/weightmodel')"
   ]
  },
  {
   "cell_type": "code",
   "execution_count": null,
   "metadata": {
    "colab": {
     "base_uri": "https://localhost:8080/",
     "height": 624
    },
    "id": "BMrme_1dXuT4",
    "outputId": "b56a34c0-67fc-47e9-87f8-343175718c27"
   },
   "outputs": [],
   "source": [
    "testresult=model.predict(x_test)\n",
    "i = 0\n",
    "correct = 0\n",
    "for x in testresult:\n",
    "    if x >=0.5 and y_test[i] == 1:\n",
    "        correct = correct + 1\n",
    "    elif x < 0.5 and y_test[i] == 0:\n",
    "        correct = correct + 1\n",
    "    i = i + 1\n",
    "testacc = correct/i\n",
    "print(\"Testing accuracy:\",testacc)\n",
    "\n",
    "fpr, tpr, _ = roc_curve(y_test,testresult)\n",
    "roc_auc = auc(fpr,tpr)\n",
    "print(\"AUROC = %.02f\"% roc_auc)\n",
    "\n",
    "precision, recall, _ = precision_recall_curve(y_test,testresult)\n",
    "prc_auc = auc(recall,precision)\n",
    "print(\"AUPRC = %.02f\"% prc_auc)\n",
    "ss = np.zeros((len(testresult)))\n",
    "i = 0\n",
    "for x in testresult:\n",
    "    if x >= 0.5:\n",
    "        ss[i] = 1\n",
    "    else:\n",
    "        ss[i] = 0\n",
    "    i = i + 1\n",
    "f1s = f1_score(y_test,ss)\n",
    "print(\"f1_score = %.02f\"% f1s)"
   ]
  },
  {
   "cell_type": "code",
   "execution_count": null,
   "metadata": {},
   "outputs": [],
   "source": [
    "pd.DataFrame(testresult).to_csv('./biomarkers/capsnetweighted.csv',header=None, index=None)\n",
    "pd.DataFrame(y_test).to_csv('./biomarkers/capsnet_y.csv',header=None, index=None)"
   ]
  }
 ],
 "metadata": {
  "accelerator": "GPU",
  "colab": {
   "authorship_tag": "ABX9TyOtaemKyucoLNUMUXY77UrD",
   "collapsed_sections": [],
   "include_colab_link": true,
   "name": "NEW NEW capsnet.ipynb",
   "provenance": []
  },
  "kernelspec": {
   "display_name": "Python [conda env:tf-gpu] *",
   "language": "python",
   "name": "conda-env-tf-gpu-py"
  },
  "language_info": {
   "codemirror_mode": {
    "name": "ipython",
    "version": 3
   },
   "file_extension": ".py",
   "mimetype": "text/x-python",
   "name": "python",
   "nbconvert_exporter": "python",
   "pygments_lexer": "ipython3",
   "version": "3.8.12"
  }
 },
 "nbformat": 4,
 "nbformat_minor": 1
}
