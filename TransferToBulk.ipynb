{
 "cells": [
  {
   "cell_type": "code",
   "execution_count": 1,
   "id": "df459dbf",
   "metadata": {
    "executionInfo": {
     "elapsed": 6031,
     "status": "ok",
     "timestamp": 1680593704839,
     "user": {
      "displayName": "郑旭彬",
      "userId": "02780536813333123425"
     },
     "user_tz": -480
    },
    "id": "df459dbf"
   },
   "outputs": [
    {
     "name": "stderr",
     "output_type": "stream",
     "text": [
      "2023-06-25 12:48:59.014834: I tensorflow/stream_executor/platform/default/dso_loader.cc:49] Successfully opened dynamic library libcudart.so.10.1\n"
     ]
    }
   ],
   "source": [
    "from tensorflow import keras\n",
    "from tensorflow.keras import datasets, layers, models, optimizers\n",
    "import pandas as pd\n",
    "from sklearn.model_selection import train_test_split\n",
    "from sklearn.utils import class_weight\n",
    "import numpy as np\n",
    "from sklearn.metrics import *\n",
    "from tensorflow.keras import callbacks\n",
    "import seaborn as sns\n",
    "import matplotlib.pyplot as plt\n",
    "from tensorflow.keras import backend as K\n",
    "\n",
    "from sklearn.linear_model import Lasso\n",
    "from sklearn.linear_model import LogisticRegression\n",
    "from sklearn.neighbors import KNeighborsClassifier\n",
    "from sklearn.svm import SVC\n",
    "from sklearn.ensemble import RandomForestClassifier\n",
    "from sklearn.naive_bayes import GaussianNB\n",
    "from sklearn.tree import DecisionTreeClassifier\n",
    "from sklearn.discriminant_analysis import QuadraticDiscriminantAnalysis\n",
    "from scipy.stats import ttest_ind\n",
    "import matplotlib"
   ]
  },
  {
   "cell_type": "code",
   "execution_count": 2,
   "id": "971db149",
   "metadata": {
    "id": "971db149"
   },
   "outputs": [],
   "source": [
    "rna_idx=pd.read_csv(\"./dataBulk/common_rna.csv\",index_col=0).values.squeeze().tolist()\n",
    "\n",
    "# prepare training data\n",
    "files=[\"95233\",\"26440\",\"57065\",\"4607\",\"8121\",\"9692\",\"13904\",\"26378\",\"28750\"]\n",
    "data = []\n",
    "label = []\n",
    "\n",
    "for file in files:\n",
    "    if file == \"13904\":\n",
    "        df=pd.read_csv(\"./dataBulk/exp.gene.mRNA.GSE\"+file+'.txt' , sep=\"\\t\").T\n",
    "        df_label=pd.read_csv(\"./dataBulk/label_GSE\"+file+'.txt' , sep=\"\\t\",header=None)\n",
    "        x=df[rna_idx].T\n",
    "        x=x[df_label[0]].T.values\n",
    "        data.append(x)\n",
    "        label.append(df_label[2].values>0)\n",
    "    else:\n",
    "        df=pd.read_csv(\"./dataBulk/exp.gene.mRNA.GSE\"+file+'.txt' , sep=\"\\t\").T\n",
    "        data.append(df[rna_idx].values)\n",
    "        df_label=pd.read_csv(\"./dataBulk/label_GSE\"+file+'.txt' , sep=\"\\t\",header=None)[2].values\n",
    "        label.append(df_label>0)"
   ]
  },
  {
   "cell_type": "code",
   "execution_count": 3,
   "id": "K35ynKZXHTFR",
   "metadata": {
    "colab": {
     "base_uri": "https://localhost:8080/"
    },
    "executionInfo": {
     "elapsed": 9,
     "status": "ok",
     "timestamp": 1680524553626,
     "user": {
      "displayName": "郑旭彬",
      "userId": "02780536813333123425"
     },
     "user_tz": -480
    },
    "id": "K35ynKZXHTFR",
    "outputId": "15930e3b-d143-443f-e073-a06b3bf6cdd4"
   },
   "outputs": [
    {
     "name": "stdout",
     "output_type": "stream",
     "text": [
      "(124, 2869) (124,)\n",
      "(130, 2869) (130,)\n",
      "(107, 2869) (107,)\n",
      "(123, 2869) (123,)\n",
      "(75, 2869) (75,)\n",
      "(45, 2869) (45,)\n",
      "(70, 2869) (70,)\n",
      "(103, 2869) (103,)\n",
      "(30, 2869) (30,)\n"
     ]
    }
   ],
   "source": [
    "for i,j in zip(data,label):\n",
    "    print(i.shape,j.shape)"
   ]
  },
  {
   "cell_type": "code",
   "execution_count": 4,
   "id": "520daebe",
   "metadata": {},
   "outputs": [
    {
     "data": {
      "text/plain": [
       "(221,)"
      ]
     },
     "execution_count": 4,
     "metadata": {},
     "output_type": "execute_result"
    }
   ],
   "source": [
    "df_rna_idx = pd.Series(rna_idx)\n",
    "df_rna_idx.name='gene'\n",
    "\n",
    "dfseq1 = pd.read_csv('./dataBulk/RNAseq/tpm_185263.txt',sep = '\\t')\n",
    "dfseq1.index.name='gene'\n",
    "\n",
    "dfseq1 = pd.merge(df_rna_idx, dfseq1, on='gene', how = 'left').fillna(0)\n",
    "dfseq1 = dfseq1.drop(columns='gene').T\n",
    "seq1 = dfseq1.values\n",
    "\n",
    "seq1_label = pd.read_csv('./dataBulk/RNAseq/185263_label.txt').values.squeeze()\n",
    "seq1_label.shape"
   ]
  },
  {
   "cell_type": "code",
   "execution_count": 6,
   "id": "bd5eb32a",
   "metadata": {},
   "outputs": [
    {
     "name": "stdout",
     "output_type": "stream",
     "text": [
      "(117,) (275,)\n"
     ]
    }
   ],
   "source": [
    "seq_train,seq_val, seqlabel_train,seqlabel_val = train_test_split(seq1,seq1_label,test_size=0.7,random_state=42)\n",
    "print(seqlabel_train.shape,seqlabel_val.shape)"
   ]
  },
  {
   "cell_type": "code",
   "execution_count": 9,
   "id": "deb5e7c0",
   "metadata": {},
   "outputs": [
    {
     "name": "stdout",
     "output_type": "stream",
     "text": [
      "103\n",
      "245\n"
     ]
    }
   ],
   "source": [
    "print(sum(seqlabel_train))\n",
    "print(sum(seqlabel_val))"
   ]
  },
  {
   "cell_type": "code",
   "execution_count": 6,
   "id": "OlmHUWrsU5MZ",
   "metadata": {
    "id": "OlmHUWrsU5MZ"
   },
   "outputs": [],
   "source": [
    "def loadmodel():\n",
    "    org_model = keras.models.load_model(\"./model/weightmodel\")\n",
    "    org_model = models.Model(inputs=org_model.input, outputs=org_model.get_layer('dense_6').output) # do not include final classifier\n",
    "    return org_model"
   ]
  },
  {
   "cell_type": "code",
   "execution_count": 7,
   "id": "1af3e09f",
   "metadata": {
    "id": "1af3e09f"
   },
   "outputs": [],
   "source": [
    "def transfer(org_model,sample,label):\n",
    "    xtr,xval, ytr,yval = train_test_split(sample,label,test_size=0.2,random_state=42)\n",
    "    cw = class_weight.compute_class_weight(class_weight='balanced',classes=np.unique(ytr),y=ytr)\n",
    "    cw = {0:cw[0],1:cw[1]}\n",
    "    \n",
    "    org_model.trainable = False\n",
    "    inputs = keras.Input(shape=(2869,1))\n",
    "    x = org_model(inputs, training=False)\n",
    "    outputs = layers.Dense(1, activation=\"sigmoid\")(x)\n",
    "    model = keras.Model(inputs, outputs)\n",
    "\n",
    "    model.compile(optimizer=\"adam\", loss=\"binary_crossentropy\", metrics=[\"accuracy\"])\n",
    "    model.fit(xtr, ytr, batch_size=10, epochs=30, validation_data=(xval, yval),shuffle=True,class_weight=cw)\n",
    "\n",
    "    org_model.trainable = True\n",
    "    model.compile(optimizer=keras.optimizers.Adam(1e-5),  # Very low learning rate\n",
    "              loss=keras.losses.BinaryCrossentropy(from_logits=True),\n",
    "              metrics=[keras.metrics.BinaryAccuracy()])\n",
    "    earlystopping = callbacks.EarlyStopping(monitor =\"val_binary_accuracy\", mode =\"min\", patience = 5, \n",
    "                                        restore_best_weights = True)\n",
    "    model.fit(xtr, ytr, batch_size=10, epochs=30,validation_data=(xval, yval),\n",
    "               shuffle=True,class_weight=cw)\n",
    "\n",
    "    return model"
   ]
  },
  {
   "cell_type": "code",
   "execution_count": 8,
   "id": "6a11a046",
   "metadata": {
    "colab": {
     "base_uri": "https://localhost:8080/"
    },
    "executionInfo": {
     "elapsed": 2134,
     "status": "ok",
     "timestamp": 1680524555756,
     "user": {
      "displayName": "郑旭彬",
      "userId": "02780536813333123425"
     },
     "user_tz": -480
    },
    "id": "6a11a046",
    "outputId": "c0a06034-9e20-40bb-8f92-905175475154",
    "scrolled": true
   },
   "outputs": [],
   "source": [
    "# on other biomarkers\n",
    "sota = pd.DataFrame(columns = ['Cohort','AUC','Model'])\n",
    "\n",
    "for file in [\"4607\",\"8121\",\"9692\",\"13904\",\"26378\",\"28750\"]:\n",
    "    if file == \"13904\":\n",
    "        df=pd.read_csv(\"./dataBulk/exp.gene.mRNA.GSE\"+file+'.txt' , sep=\"\\t\")\n",
    "        df_label=pd.read_csv(\"./dataBulk/label_GSE\"+file+'.txt' , sep=\"\\t\",header=None)\n",
    "        df=df[df_label[0]].T\n",
    "        y_test=df_label[2].values>0\n",
    "    else:\n",
    "        df=pd.read_csv(\"./dataBulk/exp.gene.mRNA.GSE\"+file+'.txt' , sep=\"\\t\").T\n",
    "        df_label=pd.read_csv(\"./dataBulk/label_GSE\"+file+'.txt' , sep=\"\\t\",header=None)[2].values\n",
    "        y_test=(df_label>0)\n",
    "    \n",
    "    ratio = (-df['FAIM3']/df['PLAC8']).values\n",
    "    SeptiCyte = ((df['PLAC8']/df['PLA2G7'])*(df['LAMP1']/df['CEACAM4'])).values\n",
    "    sNIP = (-(df['NLRP1']-df['IDNK'])/df['PLAC8']).values\n",
    "    \n",
    "    for testresult,mod in zip([ratio,SeptiCyte,sNIP],['FAIM3/PLAC8','SeptiCyte','sNIP']):\n",
    "        fpr, tpr, _ = roc_curve(y_test,testresult)\n",
    "        roc_auc = auc(fpr,tpr)\n",
    "        sota = sota.append({'Cohort':'GSE'+file,'AUC':roc_auc,'Model':mod},ignore_index=True)"
   ]
  },
  {
   "cell_type": "code",
   "execution_count": 9,
   "id": "3af742a8",
   "metadata": {},
   "outputs": [],
   "source": [
    "sota2 = pd.DataFrame(columns = ['Cohort','AUC','Model'])\n",
    "\n",
    "df1 = pd.read_csv('./dataBulk/RNAseq/tpm_185263.txt',sep = '\\t').T\n",
    "\n",
    "for df,y_test,file in zip([df1],[seq1_label],['185263']):\n",
    "    ratio = (-np.log2(df['FCMR'])/np.log2(df['PLAC8'])).values\n",
    "    SeptiCyte = ((df['PLAC8']/df['PLA2G7'])*(df['LAMP1']/df['CEACAM4'])).values\n",
    "    sNIP = (-(df['NLRP1']-df['IDNK'])/df['PLAC8']).values\n",
    "    \n",
    "    SeptiCyte[np.isinf(SeptiCyte)]=100000 #replace infinity\n",
    "    \n",
    "    for testresult,mod in zip([ratio,SeptiCyte,sNIP],['FAIM3/PLAC8','SeptiCyte','sNIP']):\n",
    "        fpr, tpr, _ = roc_curve(y_test,testresult)\n",
    "        roc_auc = auc(fpr,tpr)\n",
    "\n",
    "        sota2 = sota2.append({'Cohort':'GSE'+file,'AUC':roc_auc,'Model':mod},ignore_index=True)"
   ]
  },
  {
   "cell_type": "code",
   "execution_count": 10,
   "id": "d0aa4164",
   "metadata": {
    "id": "d0aa4164"
   },
   "outputs": [],
   "source": [
    "def drawsota(roc1,file_train):\n",
    "    cohorts = roc1['Cohort'].unique().tolist()\n",
    "    model_names = roc1['Model'].unique().tolist()\n",
    "\n",
    "    model_aucs = []\n",
    "    for model in model_names:\n",
    "        model_aucs.append(roc1[roc1['Model']==model]['AUC'].tolist())\n",
    "\n",
    "    num_models = len(model_names)\n",
    "\n",
    "    shift = num_models // 2 # the middle point to shift\n",
    "\n",
    "    x = np.arange(len(cohorts))*2  # the label locations\n",
    "    width = 0.4  # the width of the bars\n",
    "\n",
    "    fig, ax = plt.subplots(figsize=(10,6))\n",
    "\n",
    "    model_axs = []\n",
    "    for i in range(num_models):\n",
    "        model_axs.append(ax.bar(x + (i-shift)*width, model_aucs[i], width, label=model_names[i],color = colors[i]))\n",
    "    # Add some text for labels, title and custom x-axis tick labels, etc.\n",
    "    ax.set_ylabel('AUROC Score',size = 20)\n",
    "    ax.set_title('AUROC on microarray compared with biomarkers',size=20)\n",
    "    ax.set_ylim(ymin=0.4,ymax=1.1)\n",
    "    ax.set_xticks(x, cohorts)\n",
    "    ax.legend()\n",
    "\n",
    "    for model_ax in model_axs:\n",
    "        ax.bar_label(model_ax, padding=-45, fmt='%.3f', rotation='vertical',size=15)\n",
    "\n",
    "    plt.legend(loc='lower right',prop={'size':15})\n",
    "\n",
    "    fig.tight_layout()\n",
    "\n",
    "    plt.savefig('./figures/'+file_train+'sota0606.png',dpi=100)\n",
    "\n",
    "    plt.show()"
   ]
  },
  {
   "cell_type": "code",
   "execution_count": 11,
   "id": "GslYeMJunlTG",
   "metadata": {
    "id": "GslYeMJunlTG"
   },
   "outputs": [],
   "source": [
    "colors = ['#9e2a2b','#897966', '#EAB69F',  '#8F5D5D',\n",
    "         '#3D405B', '#5F797B', '#81B29A', '#BABF95', '#F2CC8F']\n",
    "names = [\"K-Nearest Neighbors\", \"DecisionTree\",\n",
    "         \"Random Forest\", \"Naive Bayes\", \"Quadratic Discriminant Analysis\"]\n",
    "classifiers = [\n",
    "    KNeighborsClassifier(),\n",
    "    DecisionTreeClassifier(random_state=7),\n",
    "    RandomForestClassifier(random_state=7),\n",
    "    GaussianNB(),\n",
    "    QuadraticDiscriminantAnalysis()]"
   ]
  },
  {
   "cell_type": "code",
   "execution_count": 12,
   "id": "076a6c10",
   "metadata": {
    "id": "076a6c10"
   },
   "outputs": [],
   "source": [
    "def drawML(roc2,file_train):\n",
    "    cohorts = roc2['Cohort'].unique().tolist()\n",
    "    model_names = roc2['Model'].unique().tolist()\n",
    "\n",
    "    model_aucs = []\n",
    "    for model in model_names:\n",
    "        model_aucs.append(roc2[roc2['Model']==model]['AUC'].tolist())\n",
    "\n",
    "    num_models = len(model_names)\n",
    "\n",
    "    shift = num_models // 2 # the middle point to shift\n",
    "\n",
    "    x = np.arange(len(cohorts))*4  # the label locations\n",
    "    width = 0.4  # the width of the bars\n",
    "\n",
    "    fig, ax = plt.subplots(figsize=(15,5))\n",
    "\n",
    "    model_axs = []\n",
    "    colors = ['#9e2a2b','#897966', '#EAB69F',  '#8F5D5D','#3D405B', '#5F797B', '#81B29A', '#BABF95', '#F2CC8F']\n",
    "\n",
    "    for i in range(num_models):\n",
    "        model_axs.append(ax.bar(x + (i-shift)*width, model_aucs[i], width, label=model_names[i],color = colors[i]))\n",
    "    # Add some text for labels, title and custom x-axis tick labels, etc.\n",
    "    ax.set_ylabel('AUROC Score',size=15)\n",
    "    ax.set_title('AUROC on microarray data',size=15)\n",
    "    ax.set_xticks(x, cohorts,fontsize=14)\n",
    "    ax.set_ylim(ymin=0.3,ymax=1.1)\n",
    "    ax.legend()\n",
    "\n",
    "    for model_ax in model_axs:\n",
    "        ax.bar_label(model_ax, padding=-40, fmt='%.3f', rotation='vertical', size=13)\n",
    "\n",
    "    plt.legend(loc='lower left',bbox_to_anchor = (0,-0.3), ncol=5,prop={'size':13})\n",
    "\n",
    "    fig.tight_layout()\n",
    "    plt.savefig('./figures/'+file_train+'ML0613.png',dpi=100)\n",
    "\n",
    "    plt.show()"
   ]
  },
  {
   "cell_type": "code",
   "execution_count": 13,
   "id": "rNeiQpbsa1rt",
   "metadata": {
    "colab": {
     "base_uri": "https://localhost:8080/",
     "height": 1000
    },
    "executionInfo": {
     "elapsed": 395930,
     "status": "ok",
     "timestamp": 1680528035260,
     "user": {
      "displayName": "郑旭彬",
      "userId": "02780536813333123425"
     },
     "user_tz": -480
    },
    "id": "rNeiQpbsa1rt",
    "outputId": "c9e640c0-2d54-4873-e96f-fda4c4cfaf31"
   },
   "outputs": [
    {
     "name": "stderr",
     "output_type": "stream",
     "text": [
      "2023-06-13 22:17:56.811155: I tensorflow/compiler/jit/xla_cpu_device.cc:41] Not creating XLA devices, tf_xla_enable_xla_devices not set\n",
      "2023-06-13 22:17:56.812784: I tensorflow/stream_executor/platform/default/dso_loader.cc:49] Successfully opened dynamic library libcuda.so.1\n",
      "2023-06-13 22:17:56.875875: I tensorflow/core/common_runtime/gpu/gpu_device.cc:1720] Found device 0 with properties: \n",
      "pciBusID: 0000:17:00.0 name: NVIDIA RTX A5000 computeCapability: 8.6\n",
      "coreClock: 1.695GHz coreCount: 64 deviceMemorySize: 23.68GiB deviceMemoryBandwidth: 715.34GiB/s\n",
      "2023-06-13 22:17:56.876153: I tensorflow/core/common_runtime/gpu/gpu_device.cc:1720] Found device 1 with properties: \n",
      "pciBusID: 0000:73:00.0 name: NVIDIA RTX A5000 computeCapability: 8.6\n",
      "coreClock: 1.695GHz coreCount: 64 deviceMemorySize: 23.66GiB deviceMemoryBandwidth: 715.34GiB/s\n",
      "2023-06-13 22:17:56.876179: I tensorflow/stream_executor/platform/default/dso_loader.cc:49] Successfully opened dynamic library libcudart.so.10.1\n",
      "2023-06-13 22:17:56.878026: I tensorflow/stream_executor/platform/default/dso_loader.cc:49] Successfully opened dynamic library libcublas.so.10\n",
      "2023-06-13 22:17:56.878123: I tensorflow/stream_executor/platform/default/dso_loader.cc:49] Successfully opened dynamic library libcublasLt.so.10\n",
      "2023-06-13 22:17:56.879928: I tensorflow/stream_executor/platform/default/dso_loader.cc:49] Successfully opened dynamic library libcufft.so.10\n",
      "2023-06-13 22:17:56.880278: I tensorflow/stream_executor/platform/default/dso_loader.cc:49] Successfully opened dynamic library libcurand.so.10\n",
      "2023-06-13 22:17:56.881882: I tensorflow/stream_executor/platform/default/dso_loader.cc:49] Successfully opened dynamic library libcusolver.so.10\n",
      "2023-06-13 22:17:56.882625: I tensorflow/stream_executor/platform/default/dso_loader.cc:49] Successfully opened dynamic library libcusparse.so.10\n",
      "2023-06-13 22:17:56.885918: I tensorflow/stream_executor/platform/default/dso_loader.cc:49] Successfully opened dynamic library libcudnn.so.7\n",
      "2023-06-13 22:17:56.886711: I tensorflow/core/common_runtime/gpu/gpu_device.cc:1862] Adding visible gpu devices: 0, 1\n",
      "2023-06-13 22:17:56.887306: I tensorflow/core/platform/cpu_feature_guard.cc:142] This TensorFlow binary is optimized with oneAPI Deep Neural Network Library (oneDNN) to use the following CPU instructions in performance-critical operations:  SSE4.1 SSE4.2 AVX AVX2 AVX512F FMA\n",
      "To enable them in other operations, rebuild TensorFlow with the appropriate compiler flags.\n",
      "2023-06-13 22:17:57.049532: I tensorflow/core/common_runtime/gpu/gpu_device.cc:1720] Found device 0 with properties: \n",
      "pciBusID: 0000:17:00.0 name: NVIDIA RTX A5000 computeCapability: 8.6\n",
      "coreClock: 1.695GHz coreCount: 64 deviceMemorySize: 23.68GiB deviceMemoryBandwidth: 715.34GiB/s\n",
      "2023-06-13 22:17:57.049748: I tensorflow/core/common_runtime/gpu/gpu_device.cc:1720] Found device 1 with properties: \n",
      "pciBusID: 0000:73:00.0 name: NVIDIA RTX A5000 computeCapability: 8.6\n",
      "coreClock: 1.695GHz coreCount: 64 deviceMemorySize: 23.66GiB deviceMemoryBandwidth: 715.34GiB/s\n",
      "2023-06-13 22:17:57.049776: I tensorflow/stream_executor/platform/default/dso_loader.cc:49] Successfully opened dynamic library libcudart.so.10.1\n",
      "2023-06-13 22:17:57.049811: I tensorflow/stream_executor/platform/default/dso_loader.cc:49] Successfully opened dynamic library libcublas.so.10\n",
      "2023-06-13 22:17:57.049823: I tensorflow/stream_executor/platform/default/dso_loader.cc:49] Successfully opened dynamic library libcublasLt.so.10\n",
      "2023-06-13 22:17:57.049835: I tensorflow/stream_executor/platform/default/dso_loader.cc:49] Successfully opened dynamic library libcufft.so.10\n",
      "2023-06-13 22:17:57.049846: I tensorflow/stream_executor/platform/default/dso_loader.cc:49] Successfully opened dynamic library libcurand.so.10\n",
      "2023-06-13 22:17:57.049857: I tensorflow/stream_executor/platform/default/dso_loader.cc:49] Successfully opened dynamic library libcusolver.so.10\n",
      "2023-06-13 22:17:57.049868: I tensorflow/stream_executor/platform/default/dso_loader.cc:49] Successfully opened dynamic library libcusparse.so.10\n",
      "2023-06-13 22:17:57.049879: I tensorflow/stream_executor/platform/default/dso_loader.cc:49] Successfully opened dynamic library libcudnn.so.7\n",
      "2023-06-13 22:17:57.050690: I tensorflow/core/common_runtime/gpu/gpu_device.cc:1862] Adding visible gpu devices: 0, 1\n",
      "2023-06-13 22:17:57.050727: I tensorflow/stream_executor/platform/default/dso_loader.cc:49] Successfully opened dynamic library libcudart.so.10.1\n",
      "2023-06-13 22:17:59.449306: I tensorflow/core/common_runtime/gpu/gpu_device.cc:1261] Device interconnect StreamExecutor with strength 1 edge matrix:\n",
      "2023-06-13 22:17:59.449340: I tensorflow/core/common_runtime/gpu/gpu_device.cc:1267]      0 1 \n",
      "2023-06-13 22:17:59.449346: I tensorflow/core/common_runtime/gpu/gpu_device.cc:1280] 0:   N Y \n",
      "2023-06-13 22:17:59.449349: I tensorflow/core/common_runtime/gpu/gpu_device.cc:1280] 1:   Y N \n",
      "2023-06-13 22:17:59.450301: I tensorflow/core/common_runtime/gpu/gpu_device.cc:1406] Created TensorFlow device (/job:localhost/replica:0/task:0/device:GPU:0 with 22453 MB memory) -> physical GPU (device: 0, name: NVIDIA RTX A5000, pci bus id: 0000:17:00.0, compute capability: 8.6)\n",
      "2023-06-13 22:17:59.451252: I tensorflow/core/common_runtime/gpu/gpu_device.cc:1406] Created TensorFlow device (/job:localhost/replica:0/task:0/device:GPU:1 with 22341 MB memory) -> physical GPU (device: 1, name: NVIDIA RTX A5000, pci bus id: 0000:73:00.0, compute capability: 8.6)\n",
      "2023-06-13 22:17:59.451629: I tensorflow/compiler/jit/xla_gpu_device.cc:99] Not creating XLA devices, tf_xla_enable_xla_devices not set\n",
      "2023-06-13 22:18:00.266344: W tensorflow/core/common_runtime/graph_constructor.cc:809] Node 'map/while' has 7 outputs but the _output_shapes attribute specifies shapes for 11 outputs. Output shapes may be inaccurate.\n",
      "2023-06-13 22:18:01.227191: I tensorflow/compiler/mlir/mlir_graph_optimization_pass.cc:116] None of the MLIR optimization passes are enabled (registered 2)\n",
      "2023-06-13 22:18:01.227668: I tensorflow/core/platform/profile_utils/cpu_utils.cc:112] CPU Frequency: 2400000000 Hz\n",
      "2023-06-13 22:18:01.516935: I tensorflow/stream_executor/platform/default/dso_loader.cc:49] Successfully opened dynamic library libcublas.so.10\n"
     ]
    },
    {
     "name": "stdout",
     "output_type": "stream",
     "text": [
      "0.9839506172839507\n",
      "0.9922222222222222\n",
      "1.0\n",
      "0.9711538461538461\n",
      "0.9878048780487804\n",
      "1.0\n"
     ]
    },
    {
     "name": "stderr",
     "output_type": "stream",
     "text": [
      "/home/xbzheng/miniconda3/envs/tf-gpu/lib/python3.8/site-packages/sklearn/discriminant_analysis.py:878: UserWarning: Variables are collinear\n",
      "  warnings.warn(\"Variables are collinear\")\n"
     ]
    },
    {
     "name": "stdout",
     "output_type": "stream",
     "text": [
      "Epoch 1/30\n",
      "10/10 [==============================] - 2s 91ms/step - loss: 0.6755 - accuracy: 0.6435 - val_loss: 0.6541 - val_accuracy: 0.6250\n",
      "Epoch 2/30\n",
      "10/10 [==============================] - 0s 27ms/step - loss: 0.6267 - accuracy: 0.6553 - val_loss: 0.6634 - val_accuracy: 0.6250\n",
      "Epoch 3/30\n",
      "10/10 [==============================] - 0s 27ms/step - loss: 0.7258 - accuracy: 0.3988 - val_loss: 0.7880 - val_accuracy: 0.1667\n",
      "Epoch 4/30\n",
      "10/10 [==============================] - 0s 27ms/step - loss: 0.8091 - accuracy: 0.1902 - val_loss: 0.7928 - val_accuracy: 0.1667\n",
      "Epoch 5/30\n",
      "10/10 [==============================] - 0s 26ms/step - loss: 0.6371 - accuracy: 0.2607 - val_loss: 0.6389 - val_accuracy: 0.7500\n",
      "Epoch 6/30\n",
      "10/10 [==============================] - 0s 26ms/step - loss: 0.6344 - accuracy: 0.7080 - val_loss: 0.6277 - val_accuracy: 0.7917\n",
      "Epoch 7/30\n",
      "10/10 [==============================] - 0s 27ms/step - loss: 0.6761 - accuracy: 0.7296 - val_loss: 0.6547 - val_accuracy: 0.6667\n",
      "Epoch 8/30\n",
      "10/10 [==============================] - 0s 26ms/step - loss: 0.8153 - accuracy: 0.5290 - val_loss: 0.6754 - val_accuracy: 0.5417\n",
      "Epoch 9/30\n",
      "10/10 [==============================] - 0s 26ms/step - loss: 0.6971 - accuracy: 0.5945 - val_loss: 0.6580 - val_accuracy: 0.6667\n",
      "Epoch 10/30\n",
      "10/10 [==============================] - 0s 26ms/step - loss: 0.9178 - accuracy: 0.5538 - val_loss: 0.6858 - val_accuracy: 0.5000\n",
      "Epoch 11/30\n",
      "10/10 [==============================] - 0s 26ms/step - loss: 0.6683 - accuracy: 0.5728 - val_loss: 0.6210 - val_accuracy: 0.8333\n",
      "Epoch 12/30\n",
      "10/10 [==============================] - 0s 26ms/step - loss: 0.5958 - accuracy: 0.7660 - val_loss: 0.5958 - val_accuracy: 0.8333\n",
      "Epoch 13/30\n",
      "10/10 [==============================] - 0s 26ms/step - loss: 0.7215 - accuracy: 0.7428 - val_loss: 0.6374 - val_accuracy: 0.7500\n",
      "Epoch 14/30\n",
      "10/10 [==============================] - 0s 27ms/step - loss: 0.6479 - accuracy: 0.6978 - val_loss: 0.6563 - val_accuracy: 0.7083\n",
      "Epoch 15/30\n",
      "10/10 [==============================] - 0s 26ms/step - loss: 0.6899 - accuracy: 0.5250 - val_loss: 0.7048 - val_accuracy: 0.5000\n",
      "Epoch 16/30\n",
      "10/10 [==============================] - 0s 27ms/step - loss: 0.6778 - accuracy: 0.3939 - val_loss: 0.7394 - val_accuracy: 0.3750\n",
      "Epoch 17/30\n",
      "10/10 [==============================] - 0s 26ms/step - loss: 0.6740 - accuracy: 0.3179 - val_loss: 0.6699 - val_accuracy: 0.5833\n",
      "Epoch 18/30\n",
      "10/10 [==============================] - 0s 26ms/step - loss: 0.6106 - accuracy: 0.6394 - val_loss: 0.6227 - val_accuracy: 0.8333\n",
      "Epoch 19/30\n",
      "10/10 [==============================] - 0s 26ms/step - loss: 0.6450 - accuracy: 0.7003 - val_loss: 0.6958 - val_accuracy: 0.5000\n",
      "Epoch 20/30\n",
      "10/10 [==============================] - 0s 27ms/step - loss: 0.7716 - accuracy: 0.3350 - val_loss: 0.8215 - val_accuracy: 0.1250\n",
      "Epoch 21/30\n",
      "10/10 [==============================] - 0s 26ms/step - loss: 0.6539 - accuracy: 0.1280 - val_loss: 0.7026 - val_accuracy: 0.4583\n",
      "Epoch 22/30\n",
      "10/10 [==============================] - 0s 26ms/step - loss: 0.8045 - accuracy: 0.5361 - val_loss: 0.6652 - val_accuracy: 0.6667\n",
      "Epoch 23/30\n",
      "10/10 [==============================] - 0s 26ms/step - loss: 0.6854 - accuracy: 0.8054 - val_loss: 0.5854 - val_accuracy: 0.8750\n",
      "Epoch 24/30\n",
      "10/10 [==============================] - 0s 26ms/step - loss: 0.6615 - accuracy: 0.8583 - val_loss: 0.5882 - val_accuracy: 0.8750\n",
      "Epoch 25/30\n",
      "10/10 [==============================] - 0s 26ms/step - loss: 0.7713 - accuracy: 0.7541 - val_loss: 0.6311 - val_accuracy: 0.7500\n",
      "Epoch 26/30\n",
      "10/10 [==============================] - 0s 26ms/step - loss: 0.6647 - accuracy: 0.7733 - val_loss: 0.6333 - val_accuracy: 0.7500\n",
      "Epoch 27/30\n",
      "10/10 [==============================] - 0s 26ms/step - loss: 0.6607 - accuracy: 0.7404 - val_loss: 0.6430 - val_accuracy: 0.7500\n",
      "Epoch 28/30\n",
      "10/10 [==============================] - 0s 27ms/step - loss: 0.6605 - accuracy: 0.5660 - val_loss: 0.6777 - val_accuracy: 0.5833\n",
      "Epoch 29/30\n",
      "10/10 [==============================] - 0s 26ms/step - loss: 0.6999 - accuracy: 0.5807 - val_loss: 0.6753 - val_accuracy: 0.5833\n",
      "Epoch 30/30\n",
      "10/10 [==============================] - 0s 26ms/step - loss: 0.6018 - accuracy: 0.6630 - val_loss: 0.6145 - val_accuracy: 0.8750\n",
      "Epoch 1/30\n",
      "10/10 [==============================] - 2s 92ms/step - loss: 0.7168 - binary_accuracy: 0.6886 - val_loss: 0.6841 - val_binary_accuracy: 0.5833\n",
      "Epoch 2/30\n",
      "10/10 [==============================] - 1s 51ms/step - loss: 0.7078 - binary_accuracy: 0.4315 - val_loss: 0.6929 - val_binary_accuracy: 0.5000\n",
      "Epoch 3/30\n",
      "10/10 [==============================] - 1s 51ms/step - loss: 0.6916 - binary_accuracy: 0.5848 - val_loss: 0.6060 - val_binary_accuracy: 0.8333\n",
      "Epoch 4/30\n",
      "10/10 [==============================] - 0s 51ms/step - loss: 0.6913 - binary_accuracy: 0.7438 - val_loss: 0.5889 - val_binary_accuracy: 0.8750\n",
      "Epoch 5/30\n",
      "10/10 [==============================] - 0s 51ms/step - loss: 0.6598 - binary_accuracy: 0.6610 - val_loss: 0.6961 - val_binary_accuracy: 0.5000\n",
      "Epoch 6/30\n",
      "10/10 [==============================] - 0s 50ms/step - loss: 0.5214 - binary_accuracy: 0.4896 - val_loss: 0.6830 - val_binary_accuracy: 0.5000\n",
      "Epoch 7/30\n",
      "10/10 [==============================] - 1s 51ms/step - loss: 0.6052 - binary_accuracy: 0.4469 - val_loss: 0.6270 - val_binary_accuracy: 0.7083\n",
      "Epoch 8/30\n",
      "10/10 [==============================] - 1s 52ms/step - loss: 0.5433 - binary_accuracy: 0.6557 - val_loss: 0.6397 - val_binary_accuracy: 0.6250\n",
      "Epoch 9/30\n",
      "10/10 [==============================] - 1s 52ms/step - loss: 0.5796 - binary_accuracy: 0.5945 - val_loss: 0.5886 - val_binary_accuracy: 0.7083\n",
      "Epoch 10/30\n",
      "10/10 [==============================] - 1s 51ms/step - loss: 0.6237 - binary_accuracy: 0.7344 - val_loss: 0.5471 - val_binary_accuracy: 0.9167\n",
      "Epoch 11/30\n",
      "10/10 [==============================] - 1s 52ms/step - loss: 0.6274 - binary_accuracy: 0.8646 - val_loss: 0.5305 - val_binary_accuracy: 0.9167\n",
      "Epoch 12/30\n",
      "10/10 [==============================] - 1s 52ms/step - loss: 0.4551 - binary_accuracy: 0.7701 - val_loss: 0.5128 - val_binary_accuracy: 0.9167\n",
      "Epoch 13/30\n",
      "10/10 [==============================] - 1s 53ms/step - loss: 0.5345 - binary_accuracy: 0.8272 - val_loss: 0.5932 - val_binary_accuracy: 0.7083\n",
      "Epoch 14/30\n",
      "10/10 [==============================] - 0s 50ms/step - loss: 0.5170 - binary_accuracy: 0.6473 - val_loss: 0.5271 - val_binary_accuracy: 0.8333\n",
      "Epoch 15/30\n",
      "10/10 [==============================] - 1s 51ms/step - loss: 0.5149 - binary_accuracy: 0.8062 - val_loss: 0.5397 - val_binary_accuracy: 0.7917\n",
      "Epoch 16/30\n",
      "10/10 [==============================] - 0s 50ms/step - loss: 0.4843 - binary_accuracy: 0.8514 - val_loss: 0.4452 - val_binary_accuracy: 0.9583\n",
      "Epoch 17/30\n",
      "10/10 [==============================] - 1s 52ms/step - loss: 0.4720 - binary_accuracy: 0.8386 - val_loss: 0.4780 - val_binary_accuracy: 0.8750\n",
      "Epoch 18/30\n",
      "10/10 [==============================] - 1s 51ms/step - loss: 0.5079 - binary_accuracy: 0.8049 - val_loss: 0.5949 - val_binary_accuracy: 0.7083\n",
      "Epoch 19/30\n",
      "10/10 [==============================] - 1s 52ms/step - loss: 0.5095 - binary_accuracy: 0.7516 - val_loss: 0.4268 - val_binary_accuracy: 0.9167\n",
      "Epoch 20/30\n",
      "10/10 [==============================] - 0s 50ms/step - loss: 0.4404 - binary_accuracy: 0.8908 - val_loss: 0.4086 - val_binary_accuracy: 0.9583\n",
      "Epoch 21/30\n",
      "10/10 [==============================] - 1s 52ms/step - loss: 0.4513 - binary_accuracy: 0.8346 - val_loss: 0.4827 - val_binary_accuracy: 0.8333\n",
      "Epoch 22/30\n",
      "10/10 [==============================] - 0s 51ms/step - loss: 0.5048 - binary_accuracy: 0.7156 - val_loss: 0.6095 - val_binary_accuracy: 0.7083\n",
      "Epoch 23/30\n",
      "10/10 [==============================] - 1s 51ms/step - loss: 0.4287 - binary_accuracy: 0.7913 - val_loss: 0.3978 - val_binary_accuracy: 0.8750\n",
      "Epoch 24/30\n",
      "10/10 [==============================] - 0s 51ms/step - loss: 0.4529 - binary_accuracy: 0.8990 - val_loss: 0.4281 - val_binary_accuracy: 0.8750\n",
      "Epoch 25/30\n",
      "10/10 [==============================] - 1s 52ms/step - loss: 0.4708 - binary_accuracy: 0.8761 - val_loss: 0.3951 - val_binary_accuracy: 0.8750\n",
      "Epoch 26/30\n",
      "10/10 [==============================] - 1s 51ms/step - loss: 0.3886 - binary_accuracy: 0.8481 - val_loss: 0.4021 - val_binary_accuracy: 0.8750\n",
      "Epoch 27/30\n",
      "10/10 [==============================] - 1s 52ms/step - loss: 0.3864 - binary_accuracy: 0.8662 - val_loss: 0.4066 - val_binary_accuracy: 0.8750\n",
      "Epoch 28/30\n",
      "10/10 [==============================] - 1s 51ms/step - loss: 0.3955 - binary_accuracy: 0.8654 - val_loss: 0.4526 - val_binary_accuracy: 0.7917\n",
      "Epoch 29/30\n",
      "10/10 [==============================] - 1s 51ms/step - loss: 0.3967 - binary_accuracy: 0.8365 - val_loss: 0.3584 - val_binary_accuracy: 0.8750\n",
      "Epoch 30/30\n",
      "10/10 [==============================] - 1s 51ms/step - loss: 0.4462 - binary_accuracy: 0.8759 - val_loss: 0.3843 - val_binary_accuracy: 0.8750\n",
      "0.9659863945578231\n"
     ]
    },
    {
     "name": "stderr",
     "output_type": "stream",
     "text": [
      "/home/xbzheng/miniconda3/envs/tf-gpu/lib/python3.8/site-packages/sklearn/discriminant_analysis.py:878: UserWarning: Variables are collinear\n",
      "  warnings.warn(\"Variables are collinear\")\n"
     ]
    },
    {
     "data": {
      "image/png": "[encoded data removed]",
      "text/plain": [
       "<Figure size 1080x360 with 1 Axes>"
      ]
     },
     "metadata": {
      "needs_background": "light"
     },
     "output_type": "display_data"
    }
   ],
   "source": [
    "x_train = np.append(np.append(data[0], data[1], axis=0),data[2], axis=0)\n",
    "y_train = np.append(np.append(label[0],label[1], axis=0),label[2], axis=0)\n",
    "file_train = [\"95233\",\"26440\",\"57065\"]\n",
    "save_name = \"95233+26440+57065\"\n",
    "\n",
    "org_model = loadmodel()\n",
    "model = transfer(org_model,x_train,y_train)\n",
    "# model = keras.models.load_model(\"./model/transferred_model\")\n",
    "results = pd.DataFrame(columns = ['Cohort','AUC','Model'])\n",
    "\n",
    "# test CapTrans\n",
    "for x_test,y_test,file_test in zip(data[3:],label[3:],files[3:]):\n",
    "        testresult=model.predict(x_test)\n",
    "        fpr, tpr, _ = roc_curve(y_test,testresult)\n",
    "        roc_auc = auc(fpr,tpr)\n",
    "        print(roc_auc)\n",
    "        results = results.append({'Cohort':'GSE'+file_test,'AUC':roc_auc,'Model':'CaT'},ignore_index=True)\n",
    "\n",
    "        \n",
    "# compare to SOTA\n",
    "results = pd.concat([results,sota],ignore_index=True)\n",
    "results = pd.concat([results,sota2],ignore_index=True)\n",
    "\n",
    "# compare to other ML\n",
    "for name,clf_ in zip(names,classifiers):\n",
    "        clf_.fit(x_train, y_train)\n",
    "        for x_test,y_test,file_test in zip(data[3:],label[3:],files[3:]):\n",
    "            predt = clf_.predict(x_test)\n",
    "            fpr, tpr, _ = roc_curve(y_test,predt)\n",
    "            roc_auc = auc(fpr,tpr)\n",
    "            results = results.append({'Cohort':'GSE'+file_test,'AUC':roc_auc,'Model':name},ignore_index=True)\n",
    "\n",
    "            \n",
    "            \n",
    "seq_train,seq_val, seqlabel_train,seqlabel_val = train_test_split(seq1,seq1_label,test_size=0.7,random_state=42)\n",
    "file_train = [\"185263\"]\n",
    "save_name = \"185263\"\n",
    "\n",
    "org_model = loadmodel()\n",
    "model = transfer(org_model,seq_train,seqlabel_train)\n",
    "# model = keras.models.load_model(\"./model/transferred_model\")\n",
    "\n",
    "# test CapTrans\n",
    "testresult=model.predict(seq_val)\n",
    "fpr, tpr, _ = roc_curve(seqlabel_val,testresult)\n",
    "roc_auc = auc(fpr,tpr)\n",
    "print(roc_auc)\n",
    "results = results.append({'Cohort':'GSE'+'185263','AUC':roc_auc,'Model':'CaT'},ignore_index=True)\n",
    "\n",
    "for name,clf_ in zip(names,classifiers):\n",
    "        clf_.fit(seq_train, seqlabel_train)\n",
    "        \n",
    "        predt = clf_.predict(seq_val)\n",
    "        fpr, tpr, _ = roc_curve(seqlabel_val,predt)\n",
    "        roc_auc = auc(fpr,tpr)\n",
    "        results = results.append({'Cohort':'GSE'+'185263','AUC':roc_auc,'Model':name},ignore_index=True)\n",
    "            \n",
    "roc2 = results\n",
    "for mod in roc2['Model'].unique().tolist():\n",
    "        average = roc2[roc2['Model'] == mod]['AUC'].mean()\n",
    "        roc2 = roc2.append({'Cohort':'Average','AUC':average,'Model':mod},ignore_index=True)\n",
    "drawML(roc2,save_name)"
   ]
  }
 ],
 "metadata": {
  "colab": {
   "provenance": [
    {
     "file_id": "1maZlm0ZeqrXUhmddx-fpEyzjxKWprc01",
     "timestamp": 1678973358341
    },
    {
     "file_id": "1l8imIshzi6g6Sq3XvN-UHE3Pl2K2tznz",
     "timestamp": 1678936054016
    },
    {
     "file_id": "11MxSqv8qHICybSN4ZKJkNyIoiAJxXn67",
     "timestamp": 1666079389402
    },
    {
     "file_id": "https://github.com/Kimxbzheng/CapTrans_updated/blob/main/TransferToBulk_zheng.ipynb",
     "timestamp": 1663225650995
    }
   ]
  },
  "kernelspec": {
   "display_name": "Python [conda env:tf-gpu] *",
   "language": "python",
   "name": "conda-env-tf-gpu-py"
  },
  "language_info": {
   "codemirror_mode": {
    "name": "ipython",
    "version": 3
   },
   "file_extension": ".py",
   "mimetype": "text/x-python",
   "name": "python",
   "nbconvert_exporter": "python",
   "pygments_lexer": "ipython3",
   "version": "3.8.12"
  }
 },
 "nbformat": 4,
 "nbformat_minor": 5
}
